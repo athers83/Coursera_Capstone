{
 "cells": [
  {
   "cell_type": "markdown",
   "metadata": {},
   "source": [
    "This notebook is for the IBM Data Science Capstone Project"
   ]
  },
  {
   "cell_type": "markdown",
   "metadata": {},
   "source": [
    "# Introduction/Business Problem"
   ]
  },
  {
   "cell_type": "markdown",
   "metadata": {
    "collapsed": true
   },
   "source": [
    "An estate agent business is planning how to utilise marketing budget for next year. The options include:\n",
    "\n",
    "- a national marketing campaign \n",
    "- a regional marketing campaign \n",
    "\n",
    "Using historical geospacial customer data, determine;\n",
    " - are customers likely to respond better to a national or regional campaign. Does historical data show that customers are    clustered around regional offices, or is the location to the nearest office not a factor in the customer chosing the firm?\n",
    " - which regions, if any, are likely to be the most profitable and should be targeted for geographic marketing\n",
    "\n"
   ]
  },
  {
   "cell_type": "markdown",
   "metadata": {},
   "source": [
    "## Data"
   ]
  },
  {
   "cell_type": "markdown",
   "metadata": {},
   "source": [
    "The data from the last 12 months regional and national marketing campaigns will be analysed to determine the results. \n",
    "\n",
    "The data will contain the locations of each regional office, and the historical trend data of customers responded to marketing in the last 12 months. The data will also contain property prices.The data set will contain postal codes and will be mapped to lattitude and longitude co-ordinates, for later processing in a folium graphical analysis. \n",
    "\n",
    "This analysis will determine whether customers responding to marketing are localised around regional offices, or equally dispersed nationally. The analysis will also determine the most profitable neighourhoods (based on property prices) which may be targeted in future regional marketing campaigns."
   ]
  },
  {
   "cell_type": "markdown",
   "metadata": {},
   "source": [
    "## Methodology"
   ]
  },
  {
   "cell_type": "markdown",
   "metadata": {},
   "source": [
    "Data will be loaded from a csv source, processed using pandas, and analysed using sklearn Kmeans clustering. \n",
    "\n",
    "Location data will be used to pipoint both the regional offices, and the historical customer trend data. The results will be displayed using a folium map."
   ]
  },
  {
   "cell_type": "markdown",
   "metadata": {},
   "source": [
    "## Code results"
   ]
  },
  {
   "cell_type": "code",
   "execution_count": null,
   "metadata": {
    "collapsed": true
   },
   "outputs": [],
   "source": [
    "import pandas as pd\n",
    "import numpy as np"
   ]
  }
 ],
 "metadata": {
  "kernelspec": {
   "display_name": "Python 3",
   "language": "python",
   "name": "python3"
  },
  "language_info": {
   "codemirror_mode": {
    "name": "ipython",
    "version": 3
   },
   "file_extension": ".py",
   "mimetype": "text/x-python",
   "name": "python",
   "nbconvert_exporter": "python",
   "pygments_lexer": "ipython3",
   "version": "3.6.2"
  }
 },
 "nbformat": 4,
 "nbformat_minor": 2
}
